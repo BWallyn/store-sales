{
 "cells": [
  {
   "cell_type": "markdown",
   "id": "034437c2",
   "metadata": {},
   "source": [
    "# Analyze data"
   ]
  },
  {
   "cell_type": "markdown",
   "id": "15d36e17",
   "metadata": {},
   "source": [
    "# 1. Imports"
   ]
  },
  {
   "cell_type": "markdown",
   "id": "2b823190",
   "metadata": {},
   "source": [
    "## 1.1 Packages"
   ]
  },
  {
   "cell_type": "code",
   "execution_count": 1,
   "id": "c9b916f1",
   "metadata": {},
   "outputs": [],
   "source": [
    "import numpy as np\n",
    "import pandas as pd\n",
    "\n",
    "import plotly.express as px"
   ]
  },
  {
   "cell_type": "markdown",
   "id": "22d9c95e",
   "metadata": {},
   "source": [
    "## 1.2 Options"
   ]
  },
  {
   "cell_type": "code",
   "execution_count": null,
   "id": "eaae61a9",
   "metadata": {},
   "outputs": [],
   "source": []
  },
  {
   "cell_type": "markdown",
   "id": "757fb20f",
   "metadata": {},
   "source": [
    "## 1.3 Dataset"
   ]
  },
  {
   "cell_type": "code",
   "execution_count": 4,
   "id": "85a44cd3",
   "metadata": {},
   "outputs": [],
   "source": [
    "df_train = pd.read_parquet(\"../data/02_intermediate/df_train_preprocessed.parquet\")"
   ]
  },
  {
   "cell_type": "markdown",
   "id": "9366a4d0",
   "metadata": {},
   "source": [
    "# 2. Prepare data"
   ]
  },
  {
   "cell_type": "markdown",
   "id": "af293b10",
   "metadata": {},
   "source": []
  },
  {
   "cell_type": "code",
   "execution_count": 7,
   "id": "f89bede1",
   "metadata": {},
   "outputs": [
    {
     "data": {
      "text/html": [
       "<div>\n",
       "<style scoped>\n",
       "    .dataframe tbody tr th:only-of-type {\n",
       "        vertical-align: middle;\n",
       "    }\n",
       "\n",
       "    .dataframe tbody tr th {\n",
       "        vertical-align: top;\n",
       "    }\n",
       "\n",
       "    .dataframe thead th {\n",
       "        text-align: right;\n",
       "    }\n",
       "</style>\n",
       "<table border=\"1\" class=\"dataframe\">\n",
       "  <thead>\n",
       "    <tr style=\"text-align: right;\">\n",
       "      <th></th>\n",
       "      <th>id</th>\n",
       "      <th>date</th>\n",
       "      <th>store_nbr</th>\n",
       "      <th>family</th>\n",
       "      <th>sales</th>\n",
       "      <th>onpromotion</th>\n",
       "      <th>transactions</th>\n",
       "      <th>city</th>\n",
       "      <th>state</th>\n",
       "      <th>type_x</th>\n",
       "      <th>cluster</th>\n",
       "      <th>dcoilwtico</th>\n",
       "      <th>type_y</th>\n",
       "      <th>locale</th>\n",
       "      <th>locale_name</th>\n",
       "      <th>description</th>\n",
       "      <th>transferred</th>\n",
       "    </tr>\n",
       "  </thead>\n",
       "  <tbody>\n",
       "    <tr>\n",
       "      <th>1974584</th>\n",
       "      <td>1947854</td>\n",
       "      <td>2016-01-02</td>\n",
       "      <td>12</td>\n",
       "      <td>PREPARED FOODS</td>\n",
       "      <td>43.00000</td>\n",
       "      <td>0</td>\n",
       "      <td>NaN</td>\n",
       "      <td>Latacunga</td>\n",
       "      <td>Cotopaxi</td>\n",
       "      <td>C</td>\n",
       "      <td>15</td>\n",
       "      <td>NaN</td>\n",
       "      <td>None</td>\n",
       "      <td>None</td>\n",
       "      <td>None</td>\n",
       "      <td>None</td>\n",
       "      <td>None</td>\n",
       "    </tr>\n",
       "    <tr>\n",
       "      <th>799404</th>\n",
       "      <td>790494</td>\n",
       "      <td>2014-03-21</td>\n",
       "      <td>39</td>\n",
       "      <td>GROCERY I</td>\n",
       "      <td>2458.00000</td>\n",
       "      <td>0</td>\n",
       "      <td>1263.0</td>\n",
       "      <td>Cuenca</td>\n",
       "      <td>Azuay</td>\n",
       "      <td>B</td>\n",
       "      <td>6</td>\n",
       "      <td>99.97</td>\n",
       "      <td>None</td>\n",
       "      <td>None</td>\n",
       "      <td>None</td>\n",
       "      <td>None</td>\n",
       "      <td>None</td>\n",
       "    </tr>\n",
       "    <tr>\n",
       "      <th>560294</th>\n",
       "      <td>553166</td>\n",
       "      <td>2013-11-07</td>\n",
       "      <td>3</td>\n",
       "      <td>LAWN AND GARDEN</td>\n",
       "      <td>2.00000</td>\n",
       "      <td>0</td>\n",
       "      <td>2792.0</td>\n",
       "      <td>Quito</td>\n",
       "      <td>Pichincha</td>\n",
       "      <td>D</td>\n",
       "      <td>8</td>\n",
       "      <td>94.25</td>\n",
       "      <td>Holiday</td>\n",
       "      <td>Regional</td>\n",
       "      <td>Santa Elena</td>\n",
       "      <td>Provincializacion Santa Elena</td>\n",
       "      <td>False</td>\n",
       "    </tr>\n",
       "    <tr>\n",
       "      <th>297688</th>\n",
       "      <td>295906</td>\n",
       "      <td>2013-06-16</td>\n",
       "      <td>11</td>\n",
       "      <td>POULTRY</td>\n",
       "      <td>476.57098</td>\n",
       "      <td>0</td>\n",
       "      <td>2830.0</td>\n",
       "      <td>Cayambe</td>\n",
       "      <td>Pichincha</td>\n",
       "      <td>B</td>\n",
       "      <td>6</td>\n",
       "      <td>NaN</td>\n",
       "      <td>None</td>\n",
       "      <td>None</td>\n",
       "      <td>None</td>\n",
       "      <td>None</td>\n",
       "      <td>None</td>\n",
       "    </tr>\n",
       "    <tr>\n",
       "      <th>2674168</th>\n",
       "      <td>2627836</td>\n",
       "      <td>2017-01-18</td>\n",
       "      <td>41</td>\n",
       "      <td>GROCERY II</td>\n",
       "      <td>18.00000</td>\n",
       "      <td>0</td>\n",
       "      <td>1089.0</td>\n",
       "      <td>Machala</td>\n",
       "      <td>El Oro</td>\n",
       "      <td>D</td>\n",
       "      <td>4</td>\n",
       "      <td>51.12</td>\n",
       "      <td>None</td>\n",
       "      <td>None</td>\n",
       "      <td>None</td>\n",
       "      <td>None</td>\n",
       "      <td>None</td>\n",
       "    </tr>\n",
       "  </tbody>\n",
       "</table>\n",
       "</div>"
      ],
      "text/plain": [
       "              id        date  store_nbr           family       sales  \\\n",
       "1974584  1947854  2016-01-02         12   PREPARED FOODS    43.00000   \n",
       "799404    790494  2014-03-21         39        GROCERY I  2458.00000   \n",
       "560294    553166  2013-11-07          3  LAWN AND GARDEN     2.00000   \n",
       "297688    295906  2013-06-16         11          POULTRY   476.57098   \n",
       "2674168  2627836  2017-01-18         41       GROCERY II    18.00000   \n",
       "\n",
       "         onpromotion  transactions       city      state type_x  cluster  \\\n",
       "1974584            0           NaN  Latacunga   Cotopaxi      C       15   \n",
       "799404             0        1263.0     Cuenca      Azuay      B        6   \n",
       "560294             0        2792.0      Quito  Pichincha      D        8   \n",
       "297688             0        2830.0    Cayambe  Pichincha      B        6   \n",
       "2674168            0        1089.0    Machala     El Oro      D        4   \n",
       "\n",
       "         dcoilwtico   type_y    locale  locale_name  \\\n",
       "1974584         NaN     None      None         None   \n",
       "799404        99.97     None      None         None   \n",
       "560294        94.25  Holiday  Regional  Santa Elena   \n",
       "297688          NaN     None      None         None   \n",
       "2674168       51.12     None      None         None   \n",
       "\n",
       "                           description transferred  \n",
       "1974584                           None        None  \n",
       "799404                            None        None  \n",
       "560294   Provincializacion Santa Elena       False  \n",
       "297688                            None        None  \n",
       "2674168                           None        None  "
      ]
     },
     "execution_count": 7,
     "metadata": {},
     "output_type": "execute_result"
    }
   ],
   "source": [
    "df_train.sample(5)"
   ]
  },
  {
   "cell_type": "code",
   "execution_count": null,
   "id": "87960431",
   "metadata": {},
   "outputs": [],
   "source": []
  }
 ],
 "metadata": {
  "kernelspec": {
   "display_name": ".venv",
   "language": "python",
   "name": "python3"
  },
  "language_info": {
   "codemirror_mode": {
    "name": "ipython",
    "version": 3
   },
   "file_extension": ".py",
   "mimetype": "text/x-python",
   "name": "python",
   "nbconvert_exporter": "python",
   "pygments_lexer": "ipython3",
   "version": "3.13.2"
  }
 },
 "nbformat": 4,
 "nbformat_minor": 5
}
