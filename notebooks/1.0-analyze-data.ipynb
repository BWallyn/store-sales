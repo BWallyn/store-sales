{
 "cells": [
  {
   "cell_type": "markdown",
   "id": "034437c2",
   "metadata": {},
   "source": [
    "# Analyze data"
   ]
  },
  {
   "cell_type": "markdown",
   "id": "15d36e17",
   "metadata": {},
   "source": [
    "# 1. Imports"
   ]
  },
  {
   "cell_type": "markdown",
   "id": "2b823190",
   "metadata": {},
   "source": [
    "## 1.1 Packages"
   ]
  },
  {
   "cell_type": "code",
   "execution_count": 1,
   "id": "c9b916f1",
   "metadata": {},
   "outputs": [],
   "source": [
    "import pandas as pd"
   ]
  },
  {
   "cell_type": "markdown",
   "id": "22d9c95e",
   "metadata": {},
   "source": [
    "## 1.2 Options"
   ]
  },
  {
   "cell_type": "code",
   "execution_count": null,
   "id": "eaae61a9",
   "metadata": {},
   "outputs": [],
   "source": []
  },
  {
   "cell_type": "markdown",
   "id": "757fb20f",
   "metadata": {},
   "source": [
    "## 1.3 Dataset"
   ]
  },
  {
   "cell_type": "code",
   "execution_count": 2,
   "id": "85a44cd3",
   "metadata": {},
   "outputs": [],
   "source": [
    "df_train = pd.read_csv(\"../data/01_raw/train.csv\")\n",
    "df_stores = pd.read_csv(\"../data/01_raw/stores.csv\")\n",
    "df_transactions = pd.read_csv(\"../data/01_raw/transactions.csv\").sort_values([\"store_nbr\", \"date\"])"
   ]
  },
  {
   "cell_type": "markdown",
   "id": "9366a4d0",
   "metadata": {},
   "source": [
    "# 2. Prepare data"
   ]
  },
  {
   "cell_type": "markdown",
   "id": "af293b10",
   "metadata": {},
   "source": []
  },
  {
   "cell_type": "code",
   "execution_count": 3,
   "id": "0fcd750c",
   "metadata": {},
   "outputs": [],
   "source": [
    "# Prepare datetime\n",
    "df_train[\"date\"] = pd.to_datetime(df_train.date)\n",
    "df_transactions[\"date\"] = pd.to_datetime(df_transactions.date)"
   ]
  },
  {
   "cell_type": "code",
   "execution_count": 4,
   "id": "65c4e3c0",
   "metadata": {},
   "outputs": [
    {
     "data": {
      "text/html": [
       "<div>\n",
       "<style scoped>\n",
       "    .dataframe tbody tr th:only-of-type {\n",
       "        vertical-align: middle;\n",
       "    }\n",
       "\n",
       "    .dataframe tbody tr th {\n",
       "        vertical-align: top;\n",
       "    }\n",
       "\n",
       "    .dataframe thead th {\n",
       "        text-align: right;\n",
       "    }\n",
       "</style>\n",
       "<table border=\"1\" class=\"dataframe\">\n",
       "  <thead>\n",
       "    <tr style=\"text-align: right;\">\n",
       "      <th></th>\n",
       "      <th>id</th>\n",
       "      <th>date</th>\n",
       "      <th>store_nbr</th>\n",
       "      <th>family</th>\n",
       "      <th>sales</th>\n",
       "      <th>onpromotion</th>\n",
       "    </tr>\n",
       "  </thead>\n",
       "  <tbody>\n",
       "    <tr>\n",
       "      <th>1061973</th>\n",
       "      <td>1061973</td>\n",
       "      <td>2014-08-20</td>\n",
       "      <td>7</td>\n",
       "      <td>AUTOMOTIVE</td>\n",
       "      <td>1.0</td>\n",
       "      <td>0</td>\n",
       "    </tr>\n",
       "    <tr>\n",
       "      <th>1967004</th>\n",
       "      <td>1967004</td>\n",
       "      <td>2016-01-12</td>\n",
       "      <td>5</td>\n",
       "      <td>CELEBRATION</td>\n",
       "      <td>22.0</td>\n",
       "      <td>0</td>\n",
       "    </tr>\n",
       "    <tr>\n",
       "      <th>840594</th>\n",
       "      <td>840594</td>\n",
       "      <td>2014-04-18</td>\n",
       "      <td>44</td>\n",
       "      <td>HOME CARE</td>\n",
       "      <td>0.0</td>\n",
       "      <td>0</td>\n",
       "    </tr>\n",
       "    <tr>\n",
       "      <th>352023</th>\n",
       "      <td>352023</td>\n",
       "      <td>2013-07-17</td>\n",
       "      <td>36</td>\n",
       "      <td>GROCERY I</td>\n",
       "      <td>1725.0</td>\n",
       "      <td>0</td>\n",
       "    </tr>\n",
       "    <tr>\n",
       "      <th>923097</th>\n",
       "      <td>923097</td>\n",
       "      <td>2014-06-04</td>\n",
       "      <td>1</td>\n",
       "      <td>LINGERIE</td>\n",
       "      <td>32.0</td>\n",
       "      <td>0</td>\n",
       "    </tr>\n",
       "  </tbody>\n",
       "</table>\n",
       "</div>"
      ],
      "text/plain": [
       "              id       date  store_nbr       family   sales  onpromotion\n",
       "1061973  1061973 2014-08-20          7   AUTOMOTIVE     1.0            0\n",
       "1967004  1967004 2016-01-12          5  CELEBRATION    22.0            0\n",
       "840594    840594 2014-04-18         44    HOME CARE     0.0            0\n",
       "352023    352023 2013-07-17         36    GROCERY I  1725.0            0\n",
       "923097    923097 2014-06-04          1     LINGERIE    32.0            0"
      ]
     },
     "execution_count": 4,
     "metadata": {},
     "output_type": "execute_result"
    }
   ],
   "source": [
    "df_train.sample(5)"
   ]
  },
  {
   "cell_type": "code",
   "execution_count": 5,
   "id": "851f059b",
   "metadata": {},
   "outputs": [
    {
     "data": {
      "text/html": [
       "<div>\n",
       "<style scoped>\n",
       "    .dataframe tbody tr th:only-of-type {\n",
       "        vertical-align: middle;\n",
       "    }\n",
       "\n",
       "    .dataframe tbody tr th {\n",
       "        vertical-align: top;\n",
       "    }\n",
       "\n",
       "    .dataframe thead th {\n",
       "        text-align: right;\n",
       "    }\n",
       "</style>\n",
       "<table border=\"1\" class=\"dataframe\">\n",
       "  <thead>\n",
       "    <tr style=\"text-align: right;\">\n",
       "      <th></th>\n",
       "      <th>date</th>\n",
       "      <th>store_nbr</th>\n",
       "      <th>transactions</th>\n",
       "    </tr>\n",
       "  </thead>\n",
       "  <tbody>\n",
       "    <tr>\n",
       "      <th>32685</th>\n",
       "      <td>2014-12-02</td>\n",
       "      <td>36</td>\n",
       "      <td>1265</td>\n",
       "    </tr>\n",
       "    <tr>\n",
       "      <th>60320</th>\n",
       "      <td>2016-06-01</td>\n",
       "      <td>37</td>\n",
       "      <td>1590</td>\n",
       "    </tr>\n",
       "    <tr>\n",
       "      <th>15226</th>\n",
       "      <td>2013-11-25</td>\n",
       "      <td>11</td>\n",
       "      <td>2088</td>\n",
       "    </tr>\n",
       "    <tr>\n",
       "      <th>41917</th>\n",
       "      <td>2015-06-11</td>\n",
       "      <td>54</td>\n",
       "      <td>703</td>\n",
       "    </tr>\n",
       "    <tr>\n",
       "      <th>50422</th>\n",
       "      <td>2015-11-23</td>\n",
       "      <td>45</td>\n",
       "      <td>3076</td>\n",
       "    </tr>\n",
       "  </tbody>\n",
       "</table>\n",
       "</div>"
      ],
      "text/plain": [
       "            date  store_nbr  transactions\n",
       "32685 2014-12-02         36          1265\n",
       "60320 2016-06-01         37          1590\n",
       "15226 2013-11-25         11          2088\n",
       "41917 2015-06-11         54           703\n",
       "50422 2015-11-23         45          3076"
      ]
     },
     "execution_count": 5,
     "metadata": {},
     "output_type": "execute_result"
    }
   ],
   "source": [
    "df_transactions.sample(5)"
   ]
  },
  {
   "cell_type": "code",
   "execution_count": null,
   "id": "3b63492f",
   "metadata": {},
   "outputs": [],
   "source": []
  }
 ],
 "metadata": {
  "kernelspec": {
   "display_name": ".venv",
   "language": "python",
   "name": "python3"
  },
  "language_info": {
   "codemirror_mode": {
    "name": "ipython",
    "version": 3
   },
   "file_extension": ".py",
   "mimetype": "text/x-python",
   "name": "python",
   "nbconvert_exporter": "python",
   "pygments_lexer": "ipython3",
   "version": "3.13.2"
  }
 },
 "nbformat": 4,
 "nbformat_minor": 5
}
