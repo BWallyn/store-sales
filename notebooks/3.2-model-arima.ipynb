{
 "cells": [
  {
   "cell_type": "markdown",
   "id": "034437c2",
   "metadata": {},
   "source": [
    "# Models baseline"
   ]
  },
  {
   "cell_type": "markdown",
   "id": "15d36e17",
   "metadata": {},
   "source": [
    "# 1. Imports"
   ]
  },
  {
   "cell_type": "markdown",
   "id": "2b823190",
   "metadata": {},
   "source": [
    "## 1.1 Packages"
   ]
  },
  {
   "cell_type": "code",
   "execution_count": 1,
   "id": "c9b916f1",
   "metadata": {},
   "outputs": [],
   "source": [
    "import numpy as np\n",
    "import pandas as pd\n",
    "\n",
    "\n",
    "import matplotlib.pyplot as plt\n",
    "\n",
    "from store_sales.pipelines.model_training.nodes import simple_moving_average, exponential_moving_average"
   ]
  },
  {
   "cell_type": "markdown",
   "id": "22d9c95e",
   "metadata": {},
   "source": [
    "## 1.2 Options"
   ]
  },
  {
   "cell_type": "code",
   "execution_count": 2,
   "id": "eaae61a9",
   "metadata": {},
   "outputs": [],
   "source": [
    "lags = [20, 30, 45, 60, 90, 120, 365, 730]\n",
    "alphas = [0.95, 0.9, 0.8, 0.7, 0.5]"
   ]
  },
  {
   "cell_type": "markdown",
   "id": "757fb20f",
   "metadata": {},
   "source": [
    "## 1.3 Dataset"
   ]
  },
  {
   "cell_type": "code",
   "execution_count": 3,
   "id": "85a44cd3",
   "metadata": {},
   "outputs": [],
   "source": [
    "df_train = pd.read_parquet(\"../data/04_feature/df_train_feature_engineered.parquet\")\n",
    "\n",
    "df_test = pd.read_parquet(\"../data/04_feature/df_test_feature_engineered.parquet\")"
   ]
  },
  {
   "cell_type": "markdown",
   "id": "9366a4d0",
   "metadata": {},
   "source": [
    "# 2. Simple moving average"
   ]
  },
  {
   "cell_type": "code",
   "execution_count": 4,
   "id": "f89bede1",
   "metadata": {},
   "outputs": [
    {
     "data": {
      "text/html": [
       "<div>\n",
       "<style scoped>\n",
       "    .dataframe tbody tr th:only-of-type {\n",
       "        vertical-align: middle;\n",
       "    }\n",
       "\n",
       "    .dataframe tbody tr th {\n",
       "        vertical-align: top;\n",
       "    }\n",
       "\n",
       "    .dataframe thead th {\n",
       "        text-align: right;\n",
       "    }\n",
       "</style>\n",
       "<table border=\"1\" class=\"dataframe\">\n",
       "  <thead>\n",
       "    <tr style=\"text-align: right;\">\n",
       "      <th></th>\n",
       "      <th>id</th>\n",
       "      <th>date</th>\n",
       "      <th>store_nbr</th>\n",
       "      <th>family</th>\n",
       "      <th>sales</th>\n",
       "      <th>onpromotion</th>\n",
       "      <th>transactions</th>\n",
       "      <th>city</th>\n",
       "      <th>state</th>\n",
       "      <th>type</th>\n",
       "      <th>...</th>\n",
       "      <th>is_month_end</th>\n",
       "      <th>is_quarter_start</th>\n",
       "      <th>is_quarter_end</th>\n",
       "      <th>is_year_start</th>\n",
       "      <th>is_year_end</th>\n",
       "      <th>season</th>\n",
       "      <th>holiday_type</th>\n",
       "      <th>is_workday</th>\n",
       "      <th>is_train</th>\n",
       "      <th>is_validation</th>\n",
       "    </tr>\n",
       "  </thead>\n",
       "  <tbody>\n",
       "    <tr>\n",
       "      <th>551891</th>\n",
       "      <td>544763</td>\n",
       "      <td>2013-11-02</td>\n",
       "      <td>43</td>\n",
       "      <td>SEAFOOD</td>\n",
       "      <td>1.0</td>\n",
       "      <td>0</td>\n",
       "      <td>1385.0</td>\n",
       "      <td>Esmeraldas</td>\n",
       "      <td>Esmeraldas</td>\n",
       "      <td>E</td>\n",
       "      <td>...</td>\n",
       "      <td>False</td>\n",
       "      <td>False</td>\n",
       "      <td>False</td>\n",
       "      <td>False</td>\n",
       "      <td>False</td>\n",
       "      <td>3</td>\n",
       "      <td>Holiday_National</td>\n",
       "      <td>1</td>\n",
       "      <td>1</td>\n",
       "      <td>0</td>\n",
       "    </tr>\n",
       "    <tr>\n",
       "      <th>2355086</th>\n",
       "      <td>2312677</td>\n",
       "      <td>2016-07-24</td>\n",
       "      <td>49</td>\n",
       "      <td>BOOKS</td>\n",
       "      <td>0.0</td>\n",
       "      <td>0</td>\n",
       "      <td>3057.0</td>\n",
       "      <td>Quito</td>\n",
       "      <td>Pichincha</td>\n",
       "      <td>A</td>\n",
       "      <td>...</td>\n",
       "      <td>False</td>\n",
       "      <td>False</td>\n",
       "      <td>False</td>\n",
       "      <td>False</td>\n",
       "      <td>False</td>\n",
       "      <td>2</td>\n",
       "      <td>Additional_Local</td>\n",
       "      <td>1</td>\n",
       "      <td>1</td>\n",
       "      <td>0</td>\n",
       "    </tr>\n",
       "  </tbody>\n",
       "</table>\n",
       "<p>2 rows × 36 columns</p>\n",
       "</div>"
      ],
      "text/plain": [
       "              id       date  store_nbr   family  sales  onpromotion  \\\n",
       "551891    544763 2013-11-02         43  SEAFOOD    1.0            0   \n",
       "2355086  2312677 2016-07-24         49    BOOKS    0.0            0   \n",
       "\n",
       "         transactions        city       state type  ...  is_month_end  \\\n",
       "551891         1385.0  Esmeraldas  Esmeraldas    E  ...         False   \n",
       "2355086        3057.0       Quito   Pichincha    A  ...         False   \n",
       "\n",
       "         is_quarter_start is_quarter_end is_year_start is_year_end season  \\\n",
       "551891              False          False         False       False      3   \n",
       "2355086             False          False         False       False      2   \n",
       "\n",
       "             holiday_type  is_workday  is_train  is_validation  \n",
       "551891   Holiday_National           1         1              0  \n",
       "2355086  Additional_Local           1         1              0  \n",
       "\n",
       "[2 rows x 36 columns]"
      ]
     },
     "execution_count": 4,
     "metadata": {},
     "output_type": "execute_result"
    }
   ],
   "source": [
    "df_train.sample(2)"
   ]
  },
  {
   "cell_type": "code",
   "execution_count": null,
   "id": "bcd8a6af",
   "metadata": {},
   "outputs": [],
   "source": []
  }
 ],
 "metadata": {
  "kernelspec": {
   "display_name": ".venv",
   "language": "python",
   "name": "python3"
  },
  "language_info": {
   "codemirror_mode": {
    "name": "ipython",
    "version": 3
   },
   "file_extension": ".py",
   "mimetype": "text/x-python",
   "name": "python",
   "nbconvert_exporter": "python",
   "pygments_lexer": "ipython3",
   "version": "3.13.2"
  }
 },
 "nbformat": 4,
 "nbformat_minor": 5
}
